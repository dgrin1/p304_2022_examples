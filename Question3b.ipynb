{
  "nbformat": 4,
  "nbformat_minor": 0,
  "metadata": {
    "colab": {
      "provenance": [],
      "include_colab_link": true
    },
    "kernelspec": {
      "name": "python3",
      "display_name": "Python 3"
    }
  },
  "cells": [
    {
      "cell_type": "markdown",
      "metadata": {
        "id": "view-in-github",
        "colab_type": "text"
      },
      "source": [
        "<a href=\"https://colab.research.google.com/github/dgrin1/p304_2022_examples/blob/main/Question3b.ipynb\" target=\"_parent\"><img src=\"https://colab.research.google.com/assets/colab-badge.svg\" alt=\"Open In Colab\"/></a>"
      ]
    },
    {
      "cell_type": "markdown",
      "metadata": {
        "id": "R7w27qK4C9DD"
      },
      "source": [
        "This notebook is Python code for **computing a pivot of a Tucker tableau**.  \n",
        "\n",
        "The first three cells import the package numpy and define functions to print a tableau (including labels) and do the pivot.\n",
        "\n",
        "The bottom cell of the notebook is a sample of how to do an example (it's set up to do the Bakery Problem, pivoting twice)\n",
        "\n",
        "You can run individual cells by clicking on them and doing Shift-Enter.  Alternatively, you can run the entire notebook (on colab.research.google.com, this is found under Runtime; on the Python hub, it's under Cell)"
      ]
    },
    {
      "cell_type": "code",
      "metadata": {
        "id": "lYHyCd9QEat9"
      },
      "source": [
        "import numpy as np"
      ],
      "execution_count": null,
      "outputs": []
    },
    {
      "cell_type": "code",
      "metadata": {
        "id": "Qno1kz97EehB"
      },
      "source": [
        "def print_tableau(a,indep_names,dep_names):\n",
        "#\n",
        "# Given matrix \"a\" and lists of variables names \"indep_names\" and \"dep_names\",\n",
        "# this function prints the matrix and labels in standard tableau format\n",
        "# (including adding the -1, the minus signs in the last column, and labeling the lower-right as obj)\n",
        "#\n",
        "# First, check the inputs: indep_names should be one shorter than the number of columns of A\n",
        "#                          dep_names should be one shorter than the number of rows of A\n",
        "#\n",
        "    nrows = a.shape[0]    # use the shape function to determine number of rows and cols in A\n",
        "    ncols = a.shape[1]\n",
        "    nindep = len(indep_names)\n",
        "    ndep = len(dep_names)\n",
        "    if nindep != ncols-1:\n",
        "        print(\"WARNING: # of indep vbles should be one fewer than # columns of matrix\")\n",
        "    if ndep != nrows-1:\n",
        "        print(\"WARNING: # of dep vbles should be one fewer than # rows of matrix\")\n",
        "# Now do the printing (uses a variety of formatting techniques in Python)        \n",
        "    for j in range(ncols-1):                    # Print the independent variables in the first row\n",
        "        print(indep_names[j].rjust(10),end=\"\")  # rjust(10) makes fields 10 wide and right-justifies;\n",
        "                                                #    the end command prevents newline)\n",
        "    print(\"        -1\")                         # Tack on the -1 at the end of the first row\n",
        "    for i in range(nrows-1):\n",
        "        for j in range(ncols):                  # Print all but the last row of the matrix\n",
        "            print(\"%10.3f\" % a[i][j],end=\"\") # The syntax prints in a field 10 wide, showing 3 decimal points\n",
        "        lab = \"= -\" + dep_names[i]\n",
        "        print(lab.rjust(10))\n",
        "    for j in range(ncols):\n",
        "        print(\"%10.3f\" % a[nrows-1][j],end=\"\")  # Print the last row of the matrix, with label \"obj\" at end\n",
        "    lab = \"= obj\"\n",
        "    print(lab.rjust(10))\n",
        "    print(\" \")    # Put blank line at bottom"
      ],
      "execution_count": null,
      "outputs": []
    },
    {
      "cell_type": "code",
      "metadata": {
        "id": "rQI-mNTxEjZe"
      },
      "source": [
        "def pivot(a,pivrow,pivcol,indep_names,dep_names) :\n",
        "# \n",
        "# Given matrix \"a\", a row number \"pivrow\" and column number \"pivcol\", \n",
        "#  and lists of variable names \"indep_names\" and \"dep_names\", this\n",
        "#  function does three things:\n",
        "#    (1) outputs the new version of the matrix after a pivot,\n",
        "#    (2) updates the lists of variable names post-pivot\n",
        "#    (3) prints the new matrix, including labels showing the variable names\n",
        "#\n",
        "# First, check the inputs: indep_names should be one shorter than the number of columns of A\n",
        "#                          dep_names should be one shorter than the number of rows of A\n",
        "#                          you should not be pivoting on the last row or last column\n",
        "#\n",
        "    a = a.astype(float)   # make sure entries are treated as floating point numbers\n",
        "    nrows = a.shape[0]    # use the shape function to determine number of rows and cols in A\n",
        "    ncols = a.shape[1]\n",
        "    nindep = len(indep_names)\n",
        "    ndep = len(dep_names)\n",
        "    if nindep != ncols-1:\n",
        "        print(\"WARNING: # of indep vbles should be one fewer than # columns of matrix\")\n",
        "    if ndep != nrows-1:\n",
        "        print(\"WARNING: # of dep vbles should be one fewer than # rows of matrix\")\n",
        "    if pivrow > nrows-1 or pivcol > ncols-1:\n",
        "        print(\"WARNING: should not pivot on last row or column\")\n",
        "    newa = a.copy()       # make a copy of A, to be filled in below with result of pivot\n",
        "    p = a[pivrow-1][pivcol-1]   # identify pivot element\n",
        "    newa[pivrow-1][pivcol-1] = 1/p   # set new value of pivot element\n",
        "    # Set entries in p's row\n",
        "    for j in range(ncols):\n",
        "        if j != pivcol-1:\n",
        "            newa[pivrow-1][j]=a[pivrow-1][j]/p;\n",
        "    # Set entries in p's column\n",
        "    for i in range(nrows):\n",
        "        if i != pivrow-1:\n",
        "            newa[i][pivcol-1]=-a[i][pivcol-1]/p;\n",
        "    # Set all other entries\n",
        "    for i in range(nrows):\n",
        "        for j in range(ncols):\n",
        "            if i != pivrow-1 and j != pivcol-1:\n",
        "                r = a[i][pivcol-1]\n",
        "                q = a[pivrow-1][j]\n",
        "                s = a[i][j]\n",
        "                newa[i][j]=(p*s-q*r)/p\n",
        "    # Now swap the variable names\n",
        "    temp = indep_names[pivcol-1]\n",
        "    indep_names[pivcol-1]=dep_names[pivrow-1]\n",
        "    dep_names[pivrow-1]=temp\n",
        "    print_tableau(newa,indep_names,dep_names) # Print the matrix with updated labels\n",
        "    return newa;"
      ],
      "execution_count": null,
      "outputs": []
    },
    {
      "cell_type": "code",
      "metadata": {
        "colab": {
          "base_uri": "https://localhost:8080/"
        },
        "id": "KVaCgrY2Epym",
        "outputId": "6b3cc133-87a7-4694-d9a7-df4258e0badc"
      },
      "source": [
        "np.set_printoptions(suppress=True)   # Prevents scientific notation when printing\n",
        "a = np.array([[1,0.8,0.6,500],\n",
        "         [0,0.15,0.3,250],\n",
        "         [0,0.05,0.1,100],\n",
        "         [2,-1,0,0],\n",
        "         [0,2,-1,0],\n",
        "         [2,1.5,1,0]])\n",
        "indep_names = [\"Mixture 1\",\"Mixture 2\", \"Mixture 3\"]\n",
        "dep_names = [\"t1\",\"t2\", \"t3\",\"t4\",\"t5\"]\n",
        "print_tableau(a,indep_names,dep_names)\n",
        "print(\"Initial tableau\")\n",
        "print(\"Selected Pivot: p=2, first column\")"
      ],
      "execution_count": null,
      "outputs": [
        {
          "output_type": "stream",
          "name": "stdout",
          "text": [
            "   peanuts   cashews    pecans        -1\n",
            "     1.000     0.800     0.600   500.000     = -t1\n",
            "     0.000     0.150     0.300   250.000     = -t2\n",
            "     0.000     0.050     0.100   100.000     = -t3\n",
            "     2.000    -1.000     0.000     0.000     = -t4\n",
            "     0.000     2.000    -1.000     0.000     = -t5\n",
            "     2.000     1.500     1.000     0.000     = obj\n",
            " \n",
            "Initial tableau\n",
            "Selected Pivot: p=2, first column\n"
          ]
        }
      ]
    },
    {
      "cell_type": "code",
      "metadata": {
        "id": "bBWEctQyQt7-",
        "colab": {
          "base_uri": "https://localhost:8080/"
        },
        "outputId": "6aec3da6-59c3-4023-cb70-209b02a25ec7"
      },
      "source": [
        "a2 = pivot(a,4,1,indep_names,dep_names)\n",
        "print(\"Selected next Pivot: p=2, second column\")"
      ],
      "execution_count": null,
      "outputs": [
        {
          "output_type": "stream",
          "name": "stdout",
          "text": [
            "        t4   cashews    pecans        -1\n",
            "    -0.500     1.300     0.600   500.000     = -t1\n",
            "    -0.000     0.150     0.300   250.000     = -t2\n",
            "    -0.000     0.050     0.100   100.000     = -t3\n",
            "     0.500    -0.500     0.000     0.000= -peanuts\n",
            "    -0.000     2.000    -1.000     0.000     = -t5\n",
            "    -1.000     2.500     1.000     0.000     = obj\n",
            " \n",
            "Selected next Pivot: p=2, second column\n"
          ]
        }
      ]
    },
    {
      "cell_type": "code",
      "source": [
        "a3 = pivot(a2,5,2,indep_names,dep_names)\n",
        "print(\"Selected next Pivot: p=1.25, third column\")"
      ],
      "metadata": {
        "colab": {
          "base_uri": "https://localhost:8080/"
        },
        "id": "jD4LvdSP3o8w",
        "outputId": "2603c2ad-d0fe-4588-b453-08d72b65a7e6"
      },
      "execution_count": null,
      "outputs": [
        {
          "output_type": "stream",
          "name": "stdout",
          "text": [
            "        t4        t5    pecans        -1\n",
            "    -0.500    -0.650     1.250   500.000     = -t1\n",
            "     0.000    -0.075     0.375   250.000     = -t2\n",
            "     0.000    -0.025     0.125   100.000     = -t3\n",
            "     0.500     0.250    -0.250     0.000= -peanuts\n",
            "    -0.000     0.500    -0.500     0.000= -cashews\n",
            "    -1.000    -1.250     2.250     0.000     = obj\n",
            " \n",
            "Selected next Pivot: p=1.25, third column\n"
          ]
        }
      ]
    },
    {
      "cell_type": "code",
      "source": [
        "a4 = pivot(a3,1,3,indep_names,dep_names)"
      ],
      "metadata": {
        "colab": {
          "base_uri": "https://localhost:8080/"
        },
        "id": "UauXp7XL4MCR",
        "outputId": "1bf6ae3d-d351-43d5-aeed-ffb989599745"
      },
      "execution_count": null,
      "outputs": [
        {
          "output_type": "stream",
          "name": "stdout",
          "text": [
            "        t4        t5        t1        -1\n",
            "    -0.400    -0.520     0.800   400.000 = -pecans\n",
            "     0.150     0.120    -0.300   100.000     = -t2\n",
            "     0.050     0.040    -0.100    50.000     = -t3\n",
            "     0.400     0.120     0.200   100.000= -peanuts\n",
            "    -0.200     0.240     0.400   200.000= -cashews\n",
            "    -0.100    -0.080    -1.800  -900.000     = obj\n",
            " \n"
          ]
        }
      ]
    },
    {
      "cell_type": "code",
      "source": [],
      "metadata": {
        "id": "Xe8QA_dj46jo"
      },
      "execution_count": null,
      "outputs": []
    },
    {
      "cell_type": "code",
      "source": [],
      "metadata": {
        "id": "DngQ2-835BaP"
      },
      "execution_count": null,
      "outputs": []
    }
  ]
}