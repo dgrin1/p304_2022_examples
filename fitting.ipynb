{
 "cells": [
  {
   "cell_type": "markdown",
   "metadata": {
    "id": "Pq4ooPPpygCk"
   },
   "source": [
    "### This is a simple notebook used to model a linear relationship with ML algorithms.\n",
    "\n",
    "It accompanies Chapter 1 of the book, but it is only used to derive the numbers quoted in the text.\n",
    "\n",
    "Author: Viviana Acquaviva\n",
    "\n",
    "License: TBD"
   ]
  },
  {
   "cell_type": "code",
   "execution_count": 1,
   "metadata": {
    "executionInfo": {
     "elapsed": 4,
     "status": "ok",
     "timestamp": 1665672089327,
     "user": {
      "displayName": "Judith Katzy",
      "userId": "00772889463402601940"
     },
     "user_tz": -120
    },
    "id": "rrVlqSkxygCn"
   },
   "outputs": [],
   "source": [
    "import numpy as np\n",
    "import matplotlib\n",
    "import matplotlib.pyplot as plt\n",
    "%matplotlib inline"
   ]
  },
  {
   "cell_type": "code",
   "execution_count": 2,
   "metadata": {
    "executionInfo": {
     "elapsed": 1125,
     "status": "ok",
     "timestamp": 1665672098041,
     "user": {
      "displayName": "Judith Katzy",
      "userId": "00772889463402601940"
     },
     "user_tz": -120
    },
    "id": "obMekBviygCq"
   },
   "outputs": [],
   "source": [
    "font = {'size'   : 16}\n",
    "matplotlib.rc('font', **font)\n",
    "matplotlib.rc('xtick', labelsize=14) \n",
    "matplotlib.rc('ytick', labelsize=14) \n",
    "#matplotlib.rcParams.update({'figure.autolayout': True})\n",
    "#matplotlib.rcParams['figure.dpi'] = 300"
   ]
  },
  {
   "cell_type": "code",
   "execution_count": 3,
   "metadata": {
    "executionInfo": {
     "elapsed": 6,
     "status": "ok",
     "timestamp": 1665672101219,
     "user": {
      "displayName": "Judith Katzy",
      "userId": "00772889463402601940"
     },
     "user_tz": -120
    },
    "id": "2wAATr4JygCs"
   },
   "outputs": [],
   "source": [
    "np.random.seed(16) #set seed for reproducibility purposes\n",
    "x = np.arange(10) \n",
    "y = 2*x + 5 + np.random.randn(10) #generate some data with random gaussian scatter"
   ]
  },
  {
   "cell_type": "code",
   "execution_count": 4,
   "metadata": {
    "id": "dXgaTstTygCt"
   },
   "outputs": [
    {
     "data": {
      "text/plain": [
       "Text(0, 0.5, 'distance (m)')"
      ]
     },
     "execution_count": 4,
     "metadata": {},
     "output_type": "execute_result"
    },
    {
     "data": {
      "image/png": "[encoded data removed]",
      "text/plain": [
       "<Figure size 800x600 with 1 Axes>"
      ]
     },
     "metadata": {},
     "output_type": "display_data"
    }
   ],
   "source": [
    "plt.figure(figsize=(8,6))\n",
    "plt.scatter(x,y, c = 'red')\n",
    "plt.xlabel('time (s)')\n",
    "plt.ylabel('distance (m)')"
   ]
  },
  {
   "cell_type": "code",
   "execution_count": 5,
   "metadata": {
    "colab": {
     "base_uri": "https://localhost:8080/"
    },
    "executionInfo": {
     "elapsed": 514,
     "status": "ok",
     "timestamp": 1665672113812,
     "user": {
      "displayName": "Judith Katzy",
      "userId": "00772889463402601940"
     },
     "user_tz": -120
    },
    "id": "cmWhzruiygCv",
    "outputId": "f3fc2921-6a50-46aa-e192-ce716dbdee58"
   },
   "outputs": [
    {
     "name": "stdout",
     "output_type": "stream",
     "text": [
      "[0 1 2 3 4 5 6 7 8 9] [ 5.1  5.5  8.4 11.1 11.8 14.4 16.1 19.5 20.2 23.1]\n"
     ]
    }
   ],
   "source": [
    "print(x,np.round(y,1))"
   ]
  },
  {
   "cell_type": "code",
   "execution_count": 6,
   "metadata": {
    "executionInfo": {
     "elapsed": 393,
     "status": "ok",
     "timestamp": 1665672117385,
     "user": {
      "displayName": "Judith Katzy",
      "userId": "00772889463402601940"
     },
     "user_tz": -120
    },
    "id": "MztNriJcygCv"
   },
   "outputs": [],
   "source": [
    "y = np.round(y,1)"
   ]
  },
  {
   "cell_type": "markdown",
   "metadata": {
    "id": "wir4k2-OygCw"
   },
   "source": [
    "#### Let's import a couple of simple machine learning models "
   ]
  },
  {
   "cell_type": "code",
   "execution_count": 7,
   "metadata": {
    "executionInfo": {
     "elapsed": 721,
     "status": "ok",
     "timestamp": 1665672122826,
     "user": {
      "displayName": "Judith Katzy",
      "userId": "00772889463402601940"
     },
     "user_tz": -120
    },
    "id": "I_mXO-H1ygCx"
   },
   "outputs": [],
   "source": [
    "from sklearn.tree import DecisionTreeRegressor"
   ]
  },
  {
   "cell_type": "code",
   "execution_count": 8,
   "metadata": {
    "executionInfo": {
     "elapsed": 445,
     "status": "ok",
     "timestamp": 1665672125893,
     "user": {
      "displayName": "Judith Katzy",
      "userId": "00772889463402601940"
     },
     "user_tz": -120
    },
    "id": "UEZfpsYGygCz"
   },
   "outputs": [],
   "source": [
    "from sklearn.linear_model import LinearRegression"
   ]
  },
  {
   "cell_type": "code",
   "execution_count": 9,
   "metadata": {
    "executionInfo": {
     "elapsed": 6,
     "status": "ok",
     "timestamp": 1665672128876,
     "user": {
      "displayName": "Judith Katzy",
      "userId": "00772889463402601940"
     },
     "user_tz": -120
    },
    "id": "4P_DNnEuygCz"
   },
   "outputs": [],
   "source": [
    "from sklearn.model_selection import train_test_split "
   ]
  },
  {
   "cell_type": "code",
   "execution_count": 10,
   "metadata": {
    "executionInfo": {
     "elapsed": 6,
     "status": "ok",
     "timestamp": 1665672131541,
     "user": {
      "displayName": "Judith Katzy",
      "userId": "00772889463402601940"
     },
     "user_tz": -120
    },
    "id": "w86KRd0pygC0"
   },
   "outputs": [],
   "source": [
    "np.random.seed(10) #fix for reproducibility\n",
    "\n",
    "X_train, X_test, y_train, y_test = train_test_split(x,y, test_size=3) #create train/test split"
   ]
  },
  {
   "cell_type": "code",
   "execution_count": 11,
   "metadata": {
    "colab": {
     "base_uri": "https://localhost:8080/"
    },
    "executionInfo": {
     "elapsed": 7,
     "status": "ok",
     "timestamp": 1665672136146,
     "user": {
      "displayName": "Judith Katzy",
      "userId": "00772889463402601940"
     },
     "user_tz": -120
    },
    "id": "Uk3J-lYuygC1",
    "outputId": "a695aaab-5ec5-43e9-9420-c7fe2cad2968"
   },
   "outputs": [
    {
     "data": {
      "text/plain": [
       "(array([6, 3, 1, 0, 7, 4, 9]),\n",
       " array([16.1, 11.1,  5.5,  5.1, 19.5, 11.8, 23.1]))"
      ]
     },
     "execution_count": 11,
     "metadata": {},
     "output_type": "execute_result"
    }
   ],
   "source": [
    "X_train, y_train"
   ]
  },
  {
   "cell_type": "code",
   "execution_count": 12,
   "metadata": {
    "colab": {
     "base_uri": "https://localhost:8080/"
    },
    "executionInfo": {
     "elapsed": 1163,
     "status": "ok",
     "timestamp": 1665672141324,
     "user": {
      "displayName": "Judith Katzy",
      "userId": "00772889463402601940"
     },
     "user_tz": -120
    },
    "id": "r1pYOMmJygC3",
    "outputId": "3f1931b6-b5ad-4d9d-b6cc-364934e71892"
   },
   "outputs": [
    {
     "data": {
      "text/plain": [
       "array([8, 2, 5])"
      ]
     },
     "execution_count": 12,
     "metadata": {},
     "output_type": "execute_result"
    }
   ],
   "source": [
    "X_test"
   ]
  },
  {
   "cell_type": "code",
   "execution_count": 13,
   "metadata": {
    "executionInfo": {
     "elapsed": 1074,
     "status": "ok",
     "timestamp": 1665672144930,
     "user": {
      "displayName": "Judith Katzy",
      "userId": "00772889463402601940"
     },
     "user_tz": -120
    },
    "id": "Na82asCPygC3"
   },
   "outputs": [],
   "source": [
    "treemodel = DecisionTreeRegressor() # default params"
   ]
  },
  {
   "cell_type": "code",
   "execution_count": 14,
   "metadata": {
    "executionInfo": {
     "elapsed": 519,
     "status": "ok",
     "timestamp": 1665672149862,
     "user": {
      "displayName": "Judith Katzy",
      "userId": "00772889463402601940"
     },
     "user_tz": -120
    },
    "id": "xbQ00JgTygC4"
   },
   "outputs": [],
   "source": [
    "regmodel = LinearRegression() # default params"
   ]
  },
  {
   "cell_type": "markdown",
   "metadata": {
    "id": "nvT1EwKcygC5"
   },
   "source": [
    "Build the model on the training set and use it to predict the output for the test set!"
   ]
  },
  {
   "cell_type": "code",
   "execution_count": 15,
   "metadata": {
    "executionInfo": {
     "elapsed": 770,
     "status": "ok",
     "timestamp": 1665672155037,
     "user": {
      "displayName": "Judith Katzy",
      "userId": "00772889463402601940"
     },
     "user_tz": -120
    },
    "id": "lIIJ6xXUygC5"
   },
   "outputs": [],
   "source": [
    "y_pred_tree = treemodel.fit(X_train.reshape(-1, 1), y_train).predict(X_test.reshape(-1, 1))"
   ]
  },
  {
   "cell_type": "code",
   "execution_count": 16,
   "metadata": {
    "executionInfo": {
     "elapsed": 852,
     "status": "ok",
     "timestamp": 1665672160287,
     "user": {
      "displayName": "Judith Katzy",
      "userId": "00772889463402601940"
     },
     "user_tz": -120
    },
    "id": "ho6II941ygC6"
   },
   "outputs": [],
   "source": [
    "y_pred_reg = regmodel.fit(X_train.reshape(-1, 1), y_train).predict(X_test.reshape(-1, 1))"
   ]
  },
  {
   "cell_type": "code",
   "execution_count": 17,
   "metadata": {
    "colab": {
     "base_uri": "https://localhost:8080/"
    },
    "executionInfo": {
     "elapsed": 10,
     "status": "ok",
     "timestamp": 1665672163727,
     "user": {
      "displayName": "Judith Katzy",
      "userId": "00772889463402601940"
     },
     "user_tz": -120
    },
    "id": "SnlsWn6aygC6",
    "outputId": "fa44c966-ce3b-4774-a0b4-7874bb6a64f7"
   },
   "outputs": [
    {
     "data": {
      "text/plain": [
       "(array([20.2,  8.4, 14.4]),\n",
       " array([20.89279279,  8.41981982, 14.65630631]),\n",
       " array([19.5,  5.5, 11.8]))"
      ]
     },
     "execution_count": 17,
     "metadata": {},
     "output_type": "execute_result"
    }
   ],
   "source": [
    "y_test, y_pred_reg, y_pred_tree #True/predicted by LR and DT respectively"
   ]
  },
  {
   "cell_type": "markdown",
   "metadata": {
    "id": "42zBd1POygC8"
   },
   "source": [
    "Calculate Mean Squared Error for the two models"
   ]
  },
  {
   "cell_type": "code",
   "execution_count": 18,
   "metadata": {
    "colab": {
     "base_uri": "https://localhost:8080/"
    },
    "executionInfo": {
     "elapsed": 455,
     "status": "ok",
     "timestamp": 1665672169970,
     "user": {
      "displayName": "Judith Katzy",
      "userId": "00772889463402601940"
     },
     "user_tz": -120
    },
    "id": "bMdHfO-xygC8",
    "outputId": "117c9fd6-4bf6-40c8-81f7-2dcbccee96a2"
   },
   "outputs": [
    {
     "data": {
      "text/plain": [
       "0.18201586721857252"
      ]
     },
     "execution_count": 18,
     "metadata": {},
     "output_type": "execute_result"
    }
   ],
   "source": [
    "np.mean((y_test-y_pred_reg)**2)"
   ]
  },
  {
   "cell_type": "code",
   "execution_count": 19,
   "metadata": {
    "colab": {
     "base_uri": "https://localhost:8080/"
    },
    "executionInfo": {
     "elapsed": 11,
     "status": "ok",
     "timestamp": 1665672177428,
     "user": {
      "displayName": "Judith Katzy",
      "userId": "00772889463402601940"
     },
     "user_tz": -120
    },
    "id": "Sa_8rj-dygC9",
    "outputId": "0a55218b-6813-46c3-e837-a02cf5a8c77a"
   },
   "outputs": [
    {
     "data": {
      "text/plain": [
       "5.22"
      ]
     },
     "execution_count": 19,
     "metadata": {},
     "output_type": "execute_result"
    }
   ],
   "source": [
    "np.mean((y_test-y_pred_tree)**2)"
   ]
  },
  {
   "cell_type": "markdown",
   "metadata": {
    "id": "PLNzz7OcygC9"
   },
   "source": [
    "Predict the value at t = 12 s with the two models"
   ]
  },
  {
   "cell_type": "code",
   "execution_count": 20,
   "metadata": {
    "colab": {
     "base_uri": "https://localhost:8080/"
    },
    "executionInfo": {
     "elapsed": 390,
     "status": "ok",
     "timestamp": 1665672191367,
     "user": {
      "displayName": "Judith Katzy",
      "userId": "00772889463402601940"
     },
     "user_tz": -120
    },
    "id": "Valwc0toygC9",
    "outputId": "bc2b414a-b9bf-4f3f-810a-a9db0734073a"
   },
   "outputs": [
    {
     "name": "stdout",
     "output_type": "stream",
     "text": [
      "[23.1]\n",
      "[29.20810811]\n"
     ]
    }
   ],
   "source": [
    "print(treemodel.predict(np.array(12).reshape(-1, 1)))\n",
    "print(regmodel.predict(np.array(12).reshape(-1, 1)))"
   ]
  },
  {
   "cell_type": "markdown",
   "metadata": {
    "id": "zwrfhNZUygC_"
   },
   "source": []
  },
  {
   "cell_type": "code",
   "execution_count": 21,
   "metadata": {
    "colab": {
     "base_uri": "https://localhost:8080/"
    },
    "executionInfo": {
     "elapsed": 394,
     "status": "ok",
     "timestamp": 1665672201561,
     "user": {
      "displayName": "Judith Katzy",
      "userId": "00772889463402601940"
     },
     "user_tz": -120
    },
    "id": "6F6NmeLjygC_",
    "outputId": "5ff5dbed-4aba-43ca-c374-db35fc2c0920"
   },
   "outputs": [
    {
     "name": "stdout",
     "output_type": "stream",
     "text": [
      "[28.88363636]\n"
     ]
    }
   ],
   "source": [
    "regmodel.fit(x.reshape(-1, 1), y)\n",
    "print(regmodel.predict(np.array(12).reshape(-1, 1)))"
   ]
  },
  {
   "cell_type": "markdown",
   "metadata": {
    "executionInfo": {
     "elapsed": 3,
     "status": "ok",
     "timestamp": 1665672207735,
     "user": {
      "displayName": "Judith Katzy",
      "userId": "00772889463402601940"
     },
     "user_tz": -120
    },
    "id": "seRsXmJhygC_"
   },
   "source": [
    "### Your Turn\n",
    "\n",
    "1) Verify that the linear regression matches the formulae given in the Millikan oil drop regression formula on the homework.\n",
    "\n",
    "2) Use a sparse data set to train the model. Then use a denser data set with the same error model and underlying model to generate a denser data set. Compute the mean squared error of the denser data set compared to the model, training the data set on the sparse model.\n",
    "\n"
   ]
  },
  {
   "cell_type": "code",
   "execution_count": null,
   "metadata": {},
   "outputs": [],
   "source": []
  }
 ],
 "metadata": {
  "colab": {
   "provenance": []
  },
  "kernelspec": {
   "display_name": "Python 3 (ipykernel)",
   "language": "python",
   "name": "python3"
  },
  "language_info": {
   "codemirror_mode": {
    "name": "ipython",
    "version": 3
   },
   "file_extension": ".py",
   "mimetype": "text/x-python",
   "name": "python",
   "nbconvert_exporter": "python",
   "pygments_lexer": "ipython3",
   "version": "3.9.16"
  }
 },
 "nbformat": 4,
 "nbformat_minor": 1
}
